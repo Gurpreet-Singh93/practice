{
 "cells": [
  {
   "cell_type": "code",
   "execution_count": 73,
   "id": "c04da7a5-ec5e-4671-80a7-a3a58d400c25",
   "metadata": {},
   "outputs": [],
   "source": [
    "# Import pandas \n",
    "import pandas as pd"
   ]
  },
  {
   "cell_type": "code",
   "execution_count": 74,
   "id": "0370da32-fe5e-464a-bcee-d9aa34b6ea09",
   "metadata": {},
   "outputs": [],
   "source": [
    "#Introduce a new DataFrame\n",
    "data = {\n",
    "    \"name\": [\"Anuj\", \"Manuj\", \"Subah\"],\n",
    "    \"age\": [25, 42, 49]\n",
    "}"
   ]
  },
  {
   "cell_type": "code",
   "execution_count": 75,
   "id": "f11fa928-e52b-4a95-9f3d-fc9d294b1c09",
   "metadata": {},
   "outputs": [],
   "source": [
    "# Create a Python DataFrame\n",
    "df = pd.DataFrame(data)"
   ]
  },
  {
   "cell_type": "code",
   "execution_count": 76,
   "id": "87b7b57d-4d32-46ef-a6d8-7dd2fb71504c",
   "metadata": {},
   "outputs": [
    {
     "name": "stdout",
     "output_type": "stream",
     "text": [
      "Mean age of participants: 38.666666666666664\n"
     ]
    }
   ],
   "source": [
    "print(\"Mean age of participants:\", df[\"age\"].mean())"
   ]
  },
  {
   "cell_type": "code",
   "execution_count": 77,
   "id": "b1316b8a-55ab-4e4d-a7c2-e744be02fd97",
   "metadata": {},
   "outputs": [],
   "source": [
    "#Find older people \n",
    "op = df[df[\"age\"] > 40]"
   ]
  },
  {
   "cell_type": "code",
   "execution_count": 78,
   "id": "53986007-d568-4687-bc76-b5f6e57e0bc1",
   "metadata": {},
   "outputs": [
    {
     "name": "stdout",
     "output_type": "stream",
     "text": [
      "Mean age of older participants: 45.5\n"
     ]
    }
   ],
   "source": [
    "print(\"Mean age of older participants:\", op[\"age\"].mean())"
   ]
  },
  {
   "cell_type": "code",
   "execution_count": 82,
   "id": "76bccefb-f54b-409c-b12a-4a3d9a6ee853",
   "metadata": {},
   "outputs": [
    {
     "name": "stdout",
     "output_type": "stream",
     "text": [
      "Name of participant number 0: Anuj\n",
      "Name of participant number 1: Manuj\n",
      "Name of participant number 2: Subah\n"
     ]
    }
   ],
   "source": [
    "for index, row in df.iterrows():\n",
    "    print(\"Name of participant number %s: %s\"%( index, row[\"name\"]))"
   ]
  }
 ],
 "metadata": {
  "kernelspec": {
   "display_name": "Python 3 (ipykernel)",
   "language": "python",
   "name": "python3"
  },
  "language_info": {
   "codemirror_mode": {
    "name": "ipython",
    "version": 3
   },
   "file_extension": ".py",
   "mimetype": "text/x-python",
   "name": "python",
   "nbconvert_exporter": "python",
   "pygments_lexer": "ipython3",
   "version": "3.8.10"
  }
 },
 "nbformat": 4,
 "nbformat_minor": 5
}
